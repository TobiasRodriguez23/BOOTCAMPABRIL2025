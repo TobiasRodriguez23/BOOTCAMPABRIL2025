{
 "cells": [
  {
   "cell_type": "code",
   "execution_count": 1,
   "id": "9078e7e7",
   "metadata": {},
   "outputs": [],
   "source": [
    "def saludo_de_bienvenida(nombre):\n",
    "    print(f\"Buen dia {nombre}\")\n",
    "\n"
   ]
  },
  {
   "cell_type": "code",
   "execution_count": 2,
   "id": "932d7028",
   "metadata": {},
   "outputs": [
    {
     "name": "stdout",
     "output_type": "stream",
     "text": [
      "Buen dia tobias\n"
     ]
    }
   ],
   "source": [
    "saludo_de_bienvenida('tobias')"
   ]
  },
  {
   "cell_type": "code",
   "execution_count": null,
   "id": "ac0e144f",
   "metadata": {},
   "outputs": [],
   "source": [
    "nombre = input('ingrese su nombre')\n",
    "\n",
    "saludo_de_bienvenida(nombre)\n",
    "\n",
    "def saludo (nombre):\n",
    "    print('hola', nombre)\n",
    "\n",
    "    saludo('marcos')"
   ]
  },
  {
   "cell_type": "markdown",
   "id": "b4d18fea",
   "metadata": {},
   "source": [
    "# CONDICIONALES\n",
    " - mayor >\n",
    " - menor <\n",
    " - mayor o igual >=\n",
    " - menor o igual <=\n",
    " - es igual ==\n",
    " - diferente !=\n",
    " ## Palabras claves \n",
    " if (si)\n",
    " elif(sino si)\n",
    " else(sino)"
   ]
  },
  {
   "cell_type": "code",
   "execution_count": 4,
   "id": "936a1b5f",
   "metadata": {},
   "outputs": [
    {
     "name": "stdout",
     "output_type": "stream",
     "text": [
      "trabajador\n"
     ]
    }
   ],
   "source": [
    "edad_individuo = 35\n",
    "\n",
    "if edad_individuo < 18:\n",
    "    print('estudiante')\n",
    "elif edad_individuo > 65:\n",
    "    print('jubilado')\n",
    "else:\n",
    "    print('trabajador')\n",
    "\n"
   ]
  },
  {
   "cell_type": "markdown",
   "id": "ee33b1e6",
   "metadata": {},
   "source": [
    "# CHALLENGE 1"
   ]
  },
  {
   "cell_type": "code",
   "execution_count": 17,
   "id": "47906bf8",
   "metadata": {},
   "outputs": [
    {
     "name": "stdout",
     "output_type": "stream",
     "text": [
      "Podes tomar pero no comprar\n"
     ]
    }
   ],
   "source": [
    "edad_individuo = 20\n",
    "  \n",
    "if edad_individuo < 18:\n",
    "    print('juguito nomas')\n",
    "\n",
    "elif edad_individuo > 21:\n",
    "    print('hace lo que quieras')\n",
    "\n",
    "else:\n",
    "    print('Podes tomar pero no comprar')\n"
   ]
  },
  {
   "cell_type": "code",
   "execution_count": 16,
   "id": "b6a83fb9",
   "metadata": {},
   "outputs": [
    {
     "name": "stdout",
     "output_type": "stream",
     "text": [
      "Podes tomar pero no comprar\n"
     ]
    }
   ],
   "source": [
    "edad_para_beber = int(input('Cual es tu edad?'))\n",
    "if edad_para_beber <18:\n",
    "    print('Juguito nomas kp')\n",
    "elif edad_para_beber <21:\n",
    "    print('Podes tomar pero no comprar')\n",
    "else:\n",
    "    print('Hace lo que se te cante')"
   ]
  },
  {
   "cell_type": "markdown",
   "id": "c7c1fbaa",
   "metadata": {},
   "source": [
    "# OPERADORES LOGICOS\n",
    " and(y) - se cumple si ambas condiciones son verdaderas\n",
    " or(o)- se cumple si al menos uns de las condiciones es verdadera\n",
    " not(no)- Niega la condicion: si es verdadera, la convierte en falsa, y al reves\n",
    " "
   ]
  },
  {
   "cell_type": "code",
   "execution_count": 20,
   "id": "94bd6549",
   "metadata": {},
   "outputs": [
    {
     "name": "stdout",
     "output_type": "stream",
     "text": [
      "jubilado\n"
     ]
    }
   ],
   "source": [
    "edad_persona = 65\n",
    "trabaja = True\n",
    "\n",
    "if edad_persona < 18:\n",
    "    print('estudiante')\n",
    "elif edad_persona < 65 and trabaja == true:\n",
    "    print('activa laboralmente')\n",
    "elif( edad_persona) < 65 and trabaja == false:\n",
    "    print('desempelado')\n",
    "else:\n",
    "    print('jubilado')\n",
    "\n"
   ]
  },
  {
   "cell_type": "markdown",
   "id": "62c0a825",
   "metadata": {},
   "source": [
    "# CHALLENGE 2"
   ]
  },
  {
   "cell_type": "code",
   "execution_count": 25,
   "id": "b85c636f",
   "metadata": {},
   "outputs": [
    {
     "name": "stdout",
     "output_type": "stream",
     "text": [
      "la temperatura es 54\n",
      "Ñamano mbae\n"
     ]
    }
   ],
   "source": [
    "temperatura_celsius = int(input('ingrese la temperatura actual'))\n",
    "print(f'la temperatura es {temperatura_celsius}') \n",
    "\n",
    "if temperatura_celsius <= -10 and temperatura_celsius <= 18:\n",
    "    print('Fresquete')\n",
    "\n",
    "elif temperatura_celsius >= 19 and temperatura_celsius <=30:\n",
    "    print('calor i')\n",
    "\n",
    "elif temperatura_celsius >= 31 and temperatura_celsius <= 45:\n",
    "    print('hakuuu')\n",
    "\n",
    "else:\n",
    "    print('Ñamano mbae')\n",
    "\n",
    "\n",
    "\n",
    "\n",
    "\n",
    "\n",
    "\n",
    "\n"
   ]
  },
  {
   "cell_type": "markdown",
   "id": "8655fce4",
   "metadata": {},
   "source": [
    "# BUCLES\n",
    "\n",
    "## WHILE\n",
    "While nos permite ejecutar una serie de instrucciones mientyras que la condicion se cumpla.\n",
    "Al momento que la condicion deje de ser cierta el bucle va parar\n",
    "\n"
   ]
  },
  {
   "cell_type": "code",
   "execution_count": 26,
   "id": "c4aa1d41",
   "metadata": {},
   "outputs": [
    {
     "name": "stdout",
     "output_type": "stream",
     "text": [
      "5\n",
      "numero correcto\n",
      "6\n",
      "numero correcto\n",
      "3\n",
      "numero correcto\n",
      "10\n",
      "numero correcto\n"
     ]
    }
   ],
   "source": [
    "numero_a_adivinar = 10\n",
    "numero = 3\n",
    "\n",
    "while numero != numero_a_adivinar:\n",
    "    numero = int(input('introduce un numero'))\n",
    "    print(numero)\n",
    "\n",
    "    print('numero correcto')\n",
    "    "
   ]
  },
  {
   "cell_type": "code",
   "execution_count": null,
   "id": "afc6317e",
   "metadata": {},
   "outputs": [],
   "source": [
    "numero = 10\n",
    "\n",
    "while True:\n",
    "    numero_ingresado = int(input('Introduce un numero'))\n",
    "    if numero_ingresado == numero:\n",
    "        print('el numero es correcto')\n",
    "        \n",
    "    else: \n",
    "        print('numero incorrecto')"
   ]
  },
  {
   "cell_type": "markdown",
   "id": "2e9f7bca",
   "metadata": {},
   "source": [
    "# CHALLENGE 3 "
   ]
  },
  {
   "cell_type": "code",
   "execution_count": 36,
   "id": "ce783dd2",
   "metadata": {},
   "outputs": [
    {
     "name": "stdout",
     "output_type": "stream",
     "text": [
      "la contraseña es correcta\n"
     ]
    }
   ],
   "source": [
    "contraseña = 'tobias123'\n",
    " \n",
    "# Preguntar al usuario por la contraseña\n",
    "\n",
    "while True: \n",
    "    contraseña_ingresada = input('introduce la contraseña')\n",
    "    if contraseña_ingresada == contraseña:\n",
    "        print('la contraseña es correcta')\n",
    "        break \n",
    "else:\n",
    "    print('la contraseña es incorrecta')\n"
   ]
  },
  {
   "cell_type": "code",
   "execution_count": null,
   "id": "e81a5b02",
   "metadata": {},
   "outputs": [],
   "source": [
    "contraseña_oculta = \"password\"\n",
    "contraseña_presunta = input (\"Ingrese la contraseña:\")\n",
    "\n",
    "while contraseña_oculta != contraseña_presunta:\n",
    "    print (\"La contraseña es incorrecta, vuelva a introducirla\")\n",
    "    contraseña_presunta = input (\"Ingrese la contraseña nuevamente\")\n",
    "    if contraseña_presunta == contraseña_oculta:\n",
    "        print (\"El mensaje oculto es: HORA DEL CAFE \")\n",
    "        break"
   ]
  },
  {
   "cell_type": "markdown",
   "id": "50912579",
   "metadata": {},
   "source": [
    "# LISTAS\n",
    "Una agrupacion de objetos, que puede ser de distintos tipos de datos, la contruismos colocnado los elementos entre corchetes{} y separados por coma.\n"
   ]
  },
  {
   "cell_type": "code",
   "execution_count": null,
   "id": "af878f88",
   "metadata": {},
   "outputs": [],
   "source": [
    "lista_frutas= ['pera', 'manzana', 'banana']\n",
    "\n",
    "#diferentes tipos de datos \n",
    "lista_bool = [True, False, True]\n",
    "lista_numeros = [1, 2, 3, 4]\n",
    "\n",
    "print(lista_frutas[2])"
   ]
  },
  {
   "cell_type": "markdown",
   "id": "906f3f1f",
   "metadata": {},
   "source": [
    "# CHALLENGE 4\n",
    "\n"
   ]
  },
  {
   "cell_type": "code",
   "execution_count": 39,
   "id": "ff86a98b",
   "metadata": {},
   "outputs": [
    {
     "name": "stdout",
     "output_type": "stream",
     "text": [
      "['pan', 'hielo', 'manteca', 'arroz', 'lechuga']\n"
     ]
    }
   ],
   "source": [
    "lista_super= ['pan','gaseosa','manteca','tomate','arroz']\n",
    "\n",
    "\n",
    "lista_super.append('lechuga')\n",
    "\n",
    "lista_super[1] = 'hielo'\n",
    "\n",
    "lista_super.pop(3)\n",
    "\n",
    "print(lista_super)"
   ]
  },
  {
   "cell_type": "markdown",
   "id": "d128d633",
   "metadata": {},
   "source": [
    "# BUCLE ITERATIVO\n",
    "Cuando queremos repetir una accion una cierta cantidad de veces, podemos utilizar un bucle iterativo\n",
    "Iteraciones: una accion repetida una cierta cantidad de veces, pero en cada repeticion tiene en cuenta el valor anterior"
   ]
  },
  {
   "cell_type": "code",
   "execution_count": 49,
   "id": "e9b2c7aa",
   "metadata": {},
   "outputs": [
    {
     "name": "stdout",
     "output_type": "stream",
     "text": [
      "dia:[dia]\n",
      "dia:[dia]\n",
      "dia:[dia]\n",
      "dia:[dia]\n",
      "dia:[dia]\n",
      "dia:[dia]\n",
      "dia:[dia]\n"
     ]
    }
   ],
   "source": [
    "dias_de_la_semana = (1,2,3,4,5,6,7)\n",
    "\n",
    "for dia in dias_de_la_semana:\n",
    "    print(f'dia:[dia]')"
   ]
  },
  {
   "cell_type": "code",
   "execution_count": 50,
   "id": "8b322efb",
   "metadata": {},
   "outputs": [
    {
     "name": "stdout",
     "output_type": "stream",
     "text": [
      "hola buen dia\n",
      "hola buen dia\n",
      "hola buen dia\n",
      "hola buen dia\n",
      "hola buen dia\n"
     ]
    }
   ],
   "source": [
    "for i in range(5):\n",
    "    print('hola buen dia')\n",
    "    "
   ]
  },
  {
   "cell_type": "markdown",
   "id": "c62598c2",
   "metadata": {},
   "source": [
    "# CHALLENGE 4"
   ]
  },
  {
   "cell_type": "code",
   "execution_count": 57,
   "id": "fddfdfa0",
   "metadata": {},
   "outputs": [
    {
     "name": "stdout",
     "output_type": "stream",
     "text": [
      "0 * 2 = 0\n",
      "1 * 2 = 2\n",
      "2 * 2 = 4\n",
      "3 * 2 = 6\n",
      "4 * 2 = 8\n",
      "5 * 2 = 10\n",
      "6 * 2 = 12\n",
      "7 * 2 = 14\n",
      "8 * 2 = 16\n",
      "9 * 2 = 18\n",
      "10 * 2 = 20\n"
     ]
    }
   ],
   "source": [
    "# Iterar en un rango de 10 veces\n",
    "for i in range(11):\n",
    "    resultado = i * 2\n",
    "    print(f\"{i} * 2 = {resultado}\")\n"
   ]
  },
  {
   "cell_type": "code",
   "execution_count": 58,
   "id": "92d051c4",
   "metadata": {},
   "outputs": [
    {
     "name": "stdout",
     "output_type": "stream",
     "text": [
      "0\n",
      "2\n",
      "4\n",
      "6\n",
      "8\n",
      "10\n",
      "12\n",
      "14\n",
      "16\n",
      "18\n",
      "20\n"
     ]
    }
   ],
   "source": [
    "for i in range (11):\n",
    "    print(i *2)"
   ]
  },
  {
   "cell_type": "markdown",
   "id": "6bd0b463",
   "metadata": {},
   "source": [
    "# CHALLENGE 5"
   ]
  },
  {
   "cell_type": "code",
   "execution_count": 67,
   "id": "8cec0016",
   "metadata": {},
   "outputs": [
    {
     "name": "stdout",
     "output_type": "stream",
     "text": [
      "Adidas\n",
      "Reebok\n",
      "Under Armour\n",
      "Jordan\n",
      "Diadora\n"
     ]
    }
   ],
   "source": [
    "# Lista de marcas\n",
    "marca = [\"Nike\", \"Adidas\", \"Puma\", \"Reebok\", \"Under Armour\", \"Jordan\", \"Diadora\"]\n",
    "\n",
    "# Recorrer e imprimir solo las marcas con 6 letras o más\n",
    "for marca in marca:\n",
    "    if len(marca) >= 6:\n",
    "        print(marca)\n",
    "\n"
   ]
  },
  {
   "cell_type": "markdown",
   "id": "40e976be",
   "metadata": {},
   "source": [
    "# CHALLENGE 6"
   ]
  },
  {
   "cell_type": "code",
   "execution_count": null,
   "id": "d7610b30",
   "metadata": {},
   "outputs": [
    {
     "name": "stdout",
     "output_type": "stream",
     "text": [
      "¡encontre la palabra o!\n",
      "¡encontre la palabra o!\n"
     ]
    }
   ],
   "source": [
    "# Solicitar al usuario que ingrese una frase\n",
    "frase = input(\"Ingresá una frase: \")\n",
    "\n",
    "# Recorrer la frase letra por letra\n",
    "for letra in frase:\n",
    "    if letra  == \"o\":\n",
    "        print(\"¡encontre la palabra o!\")\n"
   ]
  },
  {
   "cell_type": "code",
   "execution_count": 76,
   "id": "02929515",
   "metadata": {},
   "outputs": [
    {
     "name": "stdout",
     "output_type": "stream",
     "text": [
      "la letra o aparece 2 veces\n"
     ]
    }
   ],
   "source": [
    "oracion = input(\"escribe una frase:\")\n",
    "contador = 0\n",
    "\n",
    "for letra in oracion:\n",
    "    if letra.lower() == \"o\":\n",
    "        contador += 1\n",
    "\n",
    "print(f\"la letra o aparece {contador} veces\")"
   ]
  }
 ],
 "metadata": {
  "kernelspec": {
   "display_name": "Python 3",
   "language": "python",
   "name": "python3"
  },
  "language_info": {
   "codemirror_mode": {
    "name": "ipython",
    "version": 3
   },
   "file_extension": ".py",
   "mimetype": "text/x-python",
   "name": "python",
   "nbconvert_exporter": "python",
   "pygments_lexer": "ipython3",
   "version": "3.13.3"
  }
 },
 "nbformat": 4,
 "nbformat_minor": 5
}
